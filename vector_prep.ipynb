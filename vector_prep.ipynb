{
 "cells": [
  {
   "cell_type": "code",
   "execution_count": 10,
   "id": "921b64d9-06d0-41c4-a07d-937264b251d8",
   "metadata": {},
   "outputs": [],
   "source": [
    "# Importing the general modules\n",
    "import warnings\n",
    "warnings.filterwarnings('ignore')\n",
    "import os\n",
    "import time\n",
    "from tqdm.auto import tqdm\n",
    "from pathlib import Path"
   ]
  },
  {
   "cell_type": "code",
   "execution_count": 13,
   "id": "62ee23b9-7b7d-4a1f-b3c4-274fb45f7852",
   "metadata": {},
   "outputs": [],
   "source": [
    "from bs4 import BeautifulSoup\n",
    "from pathlib import Path\n"
   ]
  },
  {
   "cell_type": "markdown",
   "id": "cb5a1a61-2540-4ef8-afb3-77165ae429b5",
   "metadata": {},
   "source": [
    "## 1. Setting up the black box"
   ]
  },
  {
   "cell_type": "code",
   "execution_count": 2,
   "id": "c8563795-f787-42f2-94cc-58c5b2c62252",
   "metadata": {},
   "outputs": [
    {
     "name": "stdout",
     "output_type": "stream",
     "text": [
      "WARNING:tensorflow:From C:\\Users\\HARDIKA\\anaconda3\\envs\\vectordb\\lib\\site-packages\\tf_keras\\src\\losses.py:2976: The name tf.losses.sparse_softmax_cross_entropy is deprecated. Please use tf.compat.v1.losses.sparse_softmax_cross_entropy instead.\n",
      "\n"
     ]
    }
   ],
   "source": [
    "from sentence_transformers import SentenceTransformer\n",
    "import torch\n",
    "model = SentenceTransformer('paraphrase-MiniLM-L6-v2')\n",
    "embeddings = model.encode(\"something\")"
   ]
  },
  {
   "cell_type": "code",
   "execution_count": 4,
   "id": "d86e54be-d7ce-420b-80f2-ae896bcbfbcc",
   "metadata": {},
   "outputs": [
    {
     "data": {
      "text/plain": [
       "array([-1.75111294e-01,  1.58490404e-01, -1.18856125e-01, -3.34617615e-01,\n",
       "        1.56028762e-01, -2.08266422e-01,  1.12331617e+00, -1.84903204e-01,\n",
       "        1.42543659e-01,  1.68133434e-02,  6.23148493e-02, -2.68896073e-01,\n",
       "        1.37362897e-01, -9.53574851e-02,  2.44151697e-01, -2.48515680e-01,\n",
       "        4.20203120e-01,  1.27731428e-01, -6.40652061e-01,  8.50197952e-03,\n",
       "        1.98105931e-01,  1.62470981e-01, -4.45389599e-02,  1.74844071e-01,\n",
       "       -1.78510144e-01,  4.46950674e-01, -2.08346993e-02,  1.68394640e-01,\n",
       "        1.37454523e-02, -1.06811881e-01,  2.34184816e-01,  6.92231283e-02,\n",
       "        1.08811952e-01, -3.69863398e-02, -2.07060948e-01,  5.38644612e-01,\n",
       "        1.31701678e-01,  2.02830195e-01,  2.24573135e-01,  1.48830807e-03,\n",
       "       -2.30970576e-01, -2.48231962e-01,  1.67221889e-01,  2.47285590e-01,\n",
       "       -2.53734514e-02,  3.99057239e-01, -1.14053465e-01,  6.27188608e-02,\n",
       "        2.25057438e-01, -3.40958796e-02, -3.25980306e-01, -1.18578561e-01,\n",
       "       -2.11133555e-01, -5.62108718e-02,  6.09708577e-02,  3.60836595e-01,\n",
       "        1.86020538e-01,  4.75426167e-01, -7.08753839e-02, -2.17919350e-01,\n",
       "        4.22433726e-02, -3.94497514e-01, -2.36421153e-01,  8.31800282e-01,\n",
       "        1.98658451e-01, -1.26182502e-02, -4.86123562e-01,  2.46729553e-01,\n",
       "       -4.25172657e-01, -6.94680512e-02,  1.81762874e-01,  1.42091855e-01,\n",
       "        1.26009688e-01,  3.43645245e-01,  1.38621395e-02, -3.14077288e-01,\n",
       "       -1.40608683e-01,  6.13997839e-02, -5.21016829e-02,  1.42396018e-01,\n",
       "       -4.45919633e-01,  8.56046453e-02, -7.49733970e-02,  6.66402653e-02,\n",
       "        4.58376594e-02,  4.54253525e-01,  1.12022579e-01,  3.65587324e-01,\n",
       "       -8.28422606e-02, -4.25712198e-01, -5.88410378e-01,  1.54351845e-01,\n",
       "        4.62143898e-01, -3.77053507e-02,  2.77576521e-02,  1.46659747e-01,\n",
       "       -1.04322366e-01, -5.85895360e-01, -2.70688325e-01,  1.95634830e+00,\n",
       "        1.93586797e-02,  2.25098491e-01, -1.04122311e-01, -2.87022144e-01,\n",
       "        1.58079162e-01, -3.55790138e-01,  2.65788138e-02, -6.93522170e-02,\n",
       "        3.38130504e-01,  6.60193786e-02, -3.44493479e-01, -8.27652737e-02,\n",
       "       -5.84539711e-01,  4.49208133e-02, -3.15517634e-01, -6.88592792e-02,\n",
       "        2.26948142e-01, -1.55362263e-01, -2.66764462e-02, -4.74716306e-01,\n",
       "        4.37122077e-01, -8.56285263e-03, -1.64074108e-01,  5.68952374e-02,\n",
       "       -5.57380855e-01, -5.50898254e-01,  7.80002773e-01,  3.34566593e-01,\n",
       "       -4.32589762e-02,  6.28562570e-02,  1.49880633e-01,  1.60350665e-01,\n",
       "        2.49932095e-01,  3.30450237e-01, -3.34460706e-01, -2.42000222e-01,\n",
       "        1.43182695e-01,  5.16750038e-01,  4.51505214e-01,  4.26326185e-01,\n",
       "       -3.02556306e-01,  5.23129702e-01,  3.97453457e-01, -5.63079357e-01,\n",
       "       -8.53944644e-02,  6.14112802e-02, -2.49707326e-01, -3.98314208e-01,\n",
       "        6.81945756e-02,  1.01803981e-01, -8.10881108e-02, -1.17287733e-01,\n",
       "        3.76448274e-01,  1.39027372e-01,  9.36258957e-02, -1.90232158e-01,\n",
       "        3.97160053e-01,  1.71147943e-01,  3.21228117e-01,  1.89785257e-01,\n",
       "       -1.75139725e-01, -3.01974919e-02,  5.14273345e-02,  1.91976488e-01,\n",
       "       -2.53676206e-01, -3.82099837e-01, -1.45007327e-01, -2.08253399e-01,\n",
       "        1.89765766e-01, -2.54151314e-01, -3.43785793e-01,  1.93513677e-01,\n",
       "        2.64553994e-01,  2.32996151e-01, -3.38083118e-01,  2.14990929e-01,\n",
       "       -2.97520608e-01,  3.48565251e-01,  9.43496823e-02,  6.04086630e-02,\n",
       "        8.47735927e-02, -2.19453499e-01, -1.55433431e-01,  3.40002060e-01,\n",
       "        1.77662015e-01,  2.59072427e-02,  6.54932559e-02, -3.05892229e-01,\n",
       "       -4.50554937e-01, -1.89010933e-01, -1.14705525e-01, -3.69451195e-01,\n",
       "       -1.41995654e-01,  4.21680689e-01, -1.43274054e-01, -8.05427358e-02,\n",
       "        2.91294903e-01, -5.29616058e-01, -4.23308849e-01, -3.65922719e-01,\n",
       "       -6.35414422e-01, -1.06526725e-01,  2.07525536e-01, -4.42514420e-01,\n",
       "        2.40524471e-01, -2.93977499e-01,  1.48488656e-01, -3.80814821e-01,\n",
       "       -1.51344791e-01, -3.08161318e-01, -1.52864501e-01, -2.11205721e-01,\n",
       "       -5.78732550e-01,  1.34232402e-01,  3.50161880e-01, -1.86790720e-01,\n",
       "       -4.89812225e-01,  5.78627251e-02, -3.16833347e-01, -4.08844911e-02,\n",
       "       -8.13066587e-02, -1.48653865e-01,  2.99322039e-01, -9.74377394e-01,\n",
       "        2.25924194e-01, -4.83536690e-01, -4.20986027e-01,  6.97101057e-01,\n",
       "        5.07150710e-01,  2.55021304e-02,  3.21677595e-01, -3.22435707e-01,\n",
       "       -1.58821955e-01,  2.85759240e-01, -6.77535355e-01, -3.07820797e-01,\n",
       "       -4.46020924e-02,  9.43617001e-02,  1.54355749e-01,  1.74387053e-01,\n",
       "       -1.65638044e-01,  3.39210361e-01, -6.13860004e-02,  3.53629827e-01,\n",
       "       -3.21621090e-01, -2.05371007e-01, -9.25786421e-02,  8.81198272e-02,\n",
       "       -4.15452719e-01,  5.19650161e-01,  3.59729826e-02, -3.39257233e-02,\n",
       "       -4.77194309e-01,  3.05604547e-01, -5.69680870e-01, -7.77932778e-02,\n",
       "        1.55880153e-01, -1.35299444e-01, -3.52481812e-01, -3.78146134e-02,\n",
       "        6.02127016e-01, -9.88635480e-01, -4.42865700e-01, -2.72444159e-01,\n",
       "        2.14196190e-01,  3.01136579e-02,  8.36391449e-02,  1.07421887e+00,\n",
       "       -3.02978992e-01, -2.59572834e-01, -4.76908803e-01,  1.91646263e-01,\n",
       "        1.46339983e-01, -4.74379621e-02, -1.14466466e-01, -2.93805122e-01,\n",
       "        2.75916219e-01,  2.12168787e-02,  6.89143538e-02,  3.86766523e-01,\n",
       "       -2.34657884e-01, -7.11436987e-01, -4.05244529e-02,  6.86941624e-01,\n",
       "       -1.32861122e-01,  1.61192536e-01, -4.03375536e-01,  3.16763490e-01,\n",
       "        1.58490330e-01, -9.15177837e-02,  1.34034395e-01,  3.15294534e-01,\n",
       "       -2.49197140e-01, -2.72901896e-02,  5.75220108e-01,  1.52892470e-01,\n",
       "       -4.69294377e-02, -1.31442621e-01,  2.66697437e-01,  3.79543811e-01,\n",
       "        1.76320389e-01, -4.49025124e-01, -3.26725721e-01,  3.49407680e-02,\n",
       "        1.72882795e-01, -2.29072466e-01, -3.38865429e-01,  2.69190073e-01,\n",
       "        5.25826037e-01, -5.32542765e-01, -1.78998336e-01,  4.39672351e-01,\n",
       "       -1.11680888e-01,  4.48595472e-02,  7.60889724e-02,  4.68061358e-01,\n",
       "       -3.15095335e-01,  1.40138462e-01, -1.61962643e-01, -1.99961841e-01,\n",
       "       -3.35176155e-04, -2.45345697e-01, -7.20703751e-02, -1.92917526e-01,\n",
       "       -1.68216899e-01, -8.40728506e-02,  4.48452719e-02,  1.05389290e-01,\n",
       "       -2.15615869e-01, -2.91624576e-01, -2.33097747e-01,  2.18577325e-01,\n",
       "       -1.68730617e-02,  3.85314733e-01,  3.19770008e-01, -1.40117630e-01,\n",
       "        7.13567883e-02, -1.87543631e-01, -2.11182654e-01, -9.21030343e-02,\n",
       "        1.63912430e-01, -3.55465651e-01,  2.56311953e-01, -8.73495638e-02,\n",
       "        7.65639916e-02,  6.12247139e-02,  2.50869721e-01,  6.41792834e-01,\n",
       "       -1.64906368e-01,  2.88807005e-01, -7.48372376e-02,  1.44623280e-01,\n",
       "        2.56126434e-01, -1.52153105e-01,  4.69562650e-01, -1.12466468e-02,\n",
       "        1.41969293e-01,  1.50065348e-01,  3.31857175e-01, -5.97622097e-01,\n",
       "        9.41015407e-02, -6.16663927e-03,  3.11024953e-02,  7.16753006e-01,\n",
       "        1.01619340e-01,  5.58525503e-01,  2.59508211e-02, -5.44254124e-01,\n",
       "       -3.13868314e-01,  1.83614492e-01,  1.20743968e-01, -2.01782539e-01,\n",
       "        2.64803559e-01,  9.45041180e-02, -8.22551176e-02, -2.18513057e-01,\n",
       "        4.25744683e-01,  4.92185950e-01, -2.06231073e-01,  4.01982635e-01,\n",
       "        4.65189934e-01,  1.44064084e-01,  4.97988254e-01,  7.81404316e-01],\n",
       "      dtype=float32)"
      ]
     },
     "execution_count": 4,
     "metadata": {},
     "output_type": "execute_result"
    }
   ],
   "source": [
    "embeddings"
   ]
  },
  {
   "cell_type": "markdown",
   "id": "188183c2-09bd-4cb7-a778-c2237f6c815e",
   "metadata": {},
   "source": [
    "## 2. Create a Vector DataBase"
   ]
  },
  {
   "cell_type": "code",
   "execution_count": 19,
   "id": "d84d47b9-d504-45a7-9f49-8bb92595c8b6",
   "metadata": {},
   "outputs": [],
   "source": [
    "# Read api key\n",
    "# Open the file 'api_key' and read the contents\n",
    "with open('api_key.txt', 'r') as file:\n",
    "    api_key = file.read().strip()"
   ]
  },
  {
   "cell_type": "code",
   "execution_count": 6,
   "id": "53127fc9-0da6-426a-817b-108fe53217b5",
   "metadata": {},
   "outputs": [],
   "source": [
    "from pinecone import Pinecone, ServerlessSpec\n",
    "pinecone = Pinecone(api_key= api_key)\n",
    "pinecone.create_index(name= 'vectordbsearch', \n",
    "    dimension= 384, \n",
    "    metric='cosine',\n",
    "    spec=ServerlessSpec(cloud='aws', region='us-east-1'))"
   ]
  },
  {
   "cell_type": "markdown",
   "id": "1e52a248-bdcf-43f6-a573-6072d6d1bf09",
   "metadata": {},
   "source": [
    "## 3. Making and Storing the Vectors"
   ]
  },
  {
   "cell_type": "code",
   "execution_count": 11,
   "id": "4dc91a4c-03ce-40bc-8b94-184648d66ba8",
   "metadata": {},
   "outputs": [],
   "source": [
    "pinecone = Pinecone(api_key= api_key) # Replace with your actual environment\n",
    "index = pinecone.Index(\"vectorsearch\")"
   ]
  },
  {
   "cell_type": "code",
   "execution_count": 14,
   "id": "bbc649d9-2306-4e4c-a060-e61dc73c04bf",
   "metadata": {},
   "outputs": [],
   "source": [
    "html_dir = Path(r\"D:\\Sameer\\descipr\\webinars\\vector database\\html_documents\")\n",
    "\n",
    "# Loop through each document, extract text, generate embeddings, and upload to Pinecone\n",
    "for file_path in html_dir.glob(\"*.html\"):\n",
    "    with open(file_path, \"r\", encoding=\"utf-8\") as file:\n",
    "        content = file.read()\n",
    "    \n",
    "    # Extract only the text content using BeautifulSoup\n",
    "    soup = BeautifulSoup(content, \"html.parser\")\n",
    "    text_content = soup.get_text()\n",
    "    # Convert text to vectors - refer section 1\n",
    "    embedding = model.encode(text_content).tolist()\n",
    "    doc_id = file_path.stem\n",
    "    index.upsert([(doc_id, embedding)])"
   ]
  },
  {
   "cell_type": "code",
   "execution_count": 15,
   "id": "220ac9db-6299-41bb-9b01-14ecbe25bc9d",
   "metadata": {},
   "outputs": [
    {
     "name": "stdout",
     "output_type": "stream",
     "text": [
      "{'dimension': 384,\n",
      " 'index_fullness': 0.0,\n",
      " 'namespaces': {'': {'vector_count': 15}},\n",
      " 'total_vector_count': 15}\n"
     ]
    }
   ],
   "source": [
    "print(index.describe_index_stats())"
   ]
  },
  {
   "cell_type": "markdown",
   "id": "b1ec11d7-745b-409d-bb7a-16a735d4dc1d",
   "metadata": {},
   "source": [
    "## 4. Querying some text"
   ]
  },
  {
   "cell_type": "code",
   "execution_count": 16,
   "id": "44b90682-80e2-4ffd-af53-1b970e1b7f71",
   "metadata": {},
   "outputs": [
    {
     "name": "stdout",
     "output_type": "stream",
     "text": [
      "Search Results:\n",
      "ID: document_1, Score: 0.63061434\n",
      "ID: document_9, Score: 0.541022897\n",
      "ID: document_7, Score: 0.529140949\n",
      "ID: document_3, Score: 0.464173108\n",
      "ID: document_10, Score: 0.417532802\n"
     ]
    }
   ],
   "source": [
    "query = \"AI Simulation\"\n",
    "query_embedding = model.encode(query).tolist()  # Convert to list for compatibility with Pinecone\n",
    "\n",
    "# Perform the query\n",
    "search_results = index.query(\n",
    "    vector=query_embedding,\n",
    "    top_k=5,  # Retrieve the top 5 most similar documents\n",
    "    include_values=True  # Include the vector values in the results if needed\n",
    ")\n",
    "\n",
    "# Display the results\n",
    "print(\"Search Results:\")\n",
    "for match in search_results['matches']:\n",
    "    print(f\"ID: {match['id']}, Score: {match['score']}\")"
   ]
  },
  {
   "cell_type": "code",
   "execution_count": null,
   "id": "f9b91d7d-f4ec-424f-814f-48b6fd00d666",
   "metadata": {},
   "outputs": [],
   "source": []
  }
 ],
 "metadata": {
  "kernelspec": {
   "display_name": "Python 3 (ipykernel)",
   "language": "python",
   "name": "python3"
  },
  "language_info": {
   "codemirror_mode": {
    "name": "ipython",
    "version": 3
   },
   "file_extension": ".py",
   "mimetype": "text/x-python",
   "name": "python",
   "nbconvert_exporter": "python",
   "pygments_lexer": "ipython3",
   "version": "3.10.15"
  }
 },
 "nbformat": 4,
 "nbformat_minor": 5
}
